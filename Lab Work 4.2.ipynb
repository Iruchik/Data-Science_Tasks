{
 "cells": [
  {
   "cell_type": "markdown",
   "metadata": {},
   "source": [
    "# Задание 1"
   ]
  },
  {
   "cell_type": "code",
   "execution_count": 8,
   "metadata": {},
   "outputs": [
    {
     "name": "stdout",
     "output_type": "stream",
     "text": [
      "('Customers',)\n",
      "('sqlite_autoindex_Customers_1',)\n",
      "('OrderItems',)\n",
      "('sqlite_autoindex_OrderItems_1',)\n",
      "('Orders',)\n",
      "('sqlite_autoindex_Orders_1',)\n",
      "('Products',)\n",
      "('sqlite_autoindex_Products_1',)\n",
      "('Vendors',)\n",
      "('sqlite_autoindex_Vendors_1',)\n"
     ]
    }
   ],
   "source": [
    "import sqlite3\n",
    "\n",
    "conn = sqlite3.connect('tysql.sqlite', uri=True)\n",
    "curs = conn.cursor()\n",
    "\n",
    "curs.execute(\"\"\"select name\n",
    "from sqlite_master\"\"\")\n",
    "for i in curs.fetchall():\n",
    "    print(i)\n"
   ]
  },
  {
   "cell_type": "code",
   "execution_count": 9,
   "metadata": {},
   "outputs": [
    {
     "name": "stdout",
     "output_type": "stream",
     "text": [
      "('1000000001',)\n",
      "('1000000002',)\n",
      "('1000000003',)\n",
      "('1000000004',)\n",
      "('1000000005',)\n"
     ]
    }
   ],
   "source": [
    "curs.execute(\"\"\"select cust_id\n",
    "from customers\"\"\")\n",
    "for i in curs.fetchall():\n",
    "    print(i)"
   ]
  },
  {
   "cell_type": "code",
   "execution_count": 10,
   "metadata": {},
   "outputs": [
    {
     "name": "stdout",
     "output_type": "stream",
     "text": [
      "('1000000001', 'Village Toys', '200 Maple Lane', 'Detroit', 'MI', '44444', 'USA', 'John Smith', 'sales@villagetoys.com')\n",
      "('1000000002', 'Kids Place', '333 South Lake Drive', 'Columbus', 'OH', '43333', 'USA', 'Michelle Green', None)\n",
      "('1000000003', 'Fun4All', '1 Sunny Place', 'Muncie', 'IN', '42222', 'USA', 'Jim Jones', 'jjones@fun4all.com')\n",
      "('1000000004', 'Fun4All', '829 Riverside Drive', 'Phoenix', 'AZ', '88888', 'USA', 'Denise L. Stephens', 'dstephens@fun4all.com')\n",
      "('1000000005', 'The Toy Store', '4545 53rd Street', 'Chicago', 'IL', '54545', 'USA', 'Kim Howard', None)\n"
     ]
    }
   ],
   "source": [
    "curs.execute(\"\"\"select *\n",
    "from customers\"\"\")\n",
    "for i in curs.fetchall():\n",
    "    print(i)"
   ]
  },
  {
   "cell_type": "code",
   "execution_count": 12,
   "metadata": {},
   "outputs": [
    {
     "name": "stdout",
     "output_type": "stream",
     "text": [
      "('Village Toys',)\n",
      "('The Toy Store',)\n",
      "('Kids Place',)\n",
      "('Fun4All',)\n",
      "('Fun4All',)\n"
     ]
    }
   ],
   "source": [
    "curs.execute(\"\"\"select cust_name\n",
    "from customers\n",
    "order by cust_name desc\"\"\")\n",
    "for i in curs.fetchall():\n",
    "    print(i)"
   ]
  },
  {
   "cell_type": "code",
   "execution_count": 13,
   "metadata": {},
   "outputs": [
    {
     "name": "stdout",
     "output_type": "stream",
     "text": [
      "('1000000001', 20009)\n",
      "('1000000001', 20005)\n",
      "('1000000003', 20006)\n",
      "('1000000004', 20007)\n",
      "('1000000005', 20008)\n"
     ]
    }
   ],
   "source": [
    "curs.execute(\"\"\"select cust_id, order_num\n",
    "from orders\n",
    "order by cust_id, order_date\"\"\")\n",
    "for i in curs.fetchall():\n",
    "    print(i)"
   ]
  },
  {
   "cell_type": "code",
   "execution_count": 16,
   "metadata": {},
   "outputs": [
    {
     "name": "stdout",
     "output_type": "stream",
     "text": [
      "(250, 2.49, 622.5)\n",
      "(250, 2.49, 622.5)\n",
      "(250, 2.49, 622.5)\n",
      "(100, 10.99, 1099.0)\n",
      "(100, 5.49, 549.0)\n",
      "(100, 2.99, 299.0)\n",
      "(100, 2.99, 299.0)\n",
      "(100, 2.99, 299.0)\n",
      "(50, 11.49, 574.5)\n",
      "(50, 4.49, 224.5)\n",
      "(20, 5.99, 119.80000000000001)\n",
      "(10, 11.99, 119.9)\n",
      "(10, 8.99, 89.9)\n",
      "(10, 3.49, 34.900000000000006)\n",
      "(10, 3.49, 34.900000000000006)\n",
      "(10, 3.49, 34.900000000000006)\n",
      "(5, 11.99, 59.95)\n",
      "(5, 4.99, 24.950000000000003)\n"
     ]
    }
   ],
   "source": [
    "curs.execute(\"\"\"select quantity, item_price, quantity * item_price sum\n",
    "from orderitems\n",
    "order by quantity desc, item_price desc\"\"\")\n",
    "for i in curs.fetchall():\n",
    "    print(i)"
   ]
  },
  {
   "cell_type": "code",
   "execution_count": 17,
   "metadata": {},
   "outputs": [
    {
     "name": "stdout",
     "output_type": "stream",
     "text": [
      "('King doll',)\n",
      "('Queen doll',)\n"
     ]
    }
   ],
   "source": [
    "curs.execute(\"\"\"select prod_name\n",
    "from products\n",
    "where prod_price = 9.49\"\"\")\n",
    "for i in curs.fetchall():\n",
    "    print(i)"
   ]
  },
  {
   "cell_type": "code",
   "execution_count": 18,
   "metadata": {},
   "outputs": [
    {
     "name": "stdout",
     "output_type": "stream",
     "text": [
      "('Fish bean bag toy', 3.49)\n",
      "('Bird bean bag toy', 3.49)\n",
      "('Rabbit bean bag toy', 3.49)\n",
      "('Raggedy Ann', 4.99)\n",
      "('8 inch teddy bear', 5.99)\n"
     ]
    }
   ],
   "source": [
    "curs.execute(\"\"\"select prod_name, prod_price\n",
    "from products\n",
    "where prod_price between 3 and 6\n",
    "order by prod_price\"\"\")\n",
    "for i in curs.fetchall():\n",
    "    print(i)"
   ]
  },
  {
   "cell_type": "markdown",
   "metadata": {},
   "source": [
    "# Задание 2"
   ]
  },
  {
   "cell_type": "code",
   "execution_count": 19,
   "metadata": {},
   "outputs": [
    {
     "name": "stdout",
     "output_type": "stream",
     "text": [
      "('BNBG01', 360)\n",
      "('BNBG02', 360)\n",
      "('BNBG03', 360)\n",
      "('BR01', 120)\n",
      "('BR02', 10)\n",
      "('BR03', 165)\n",
      "('RGAN01', 55)\n"
     ]
    }
   ],
   "source": [
    "curs.execute(\"\"\"select prod_id, sum(quantity)\n",
    "from orderitems\n",
    "group by prod_id\"\"\")\n",
    "for i in curs.fetchall():\n",
    "    print(i)"
   ]
  },
  {
   "cell_type": "code",
   "execution_count": 29,
   "metadata": {},
   "outputs": [
    {
     "name": "stdout",
     "output_type": "stream",
     "text": [
      "6\n"
     ]
    }
   ],
   "source": [
    "curs.execute(\"\"\"select count(prod_name)\n",
    "from products\n",
    "where prod_price > 4\"\"\")\n",
    "for i in curs.fetchall():\n",
    "    print(*i)"
   ]
  },
  {
   "cell_type": "code",
   "execution_count": 22,
   "metadata": {},
   "outputs": [
    {
     "name": "stdout",
     "output_type": "stream",
     "text": [
      "BR03 BRS01 18 inch teddy bear 11.99 18 inch teddy bear, comes with cap and jacket\n",
      "RYL01 FNG01 King doll 9.49 12 inch king doll with royal garments and crown\n",
      "RYL02 FNG01 Queen doll 9.49 12 inch queen doll with royal garments and crown\n"
     ]
    }
   ],
   "source": [
    "curs.execute(\"\"\"select *\n",
    "from products\n",
    "order by prod_price desc\n",
    "limit 3\"\"\")\n",
    "for i in curs.fetchall():\n",
    "    print(*i)"
   ]
  },
  {
   "cell_type": "code",
   "execution_count": 24,
   "metadata": {},
   "outputs": [
    {
     "name": "stdout",
     "output_type": "stream",
     "text": [
      "1000000001 2\n",
      "1000000003 1\n",
      "1000000004 1\n",
      "1000000005 1\n"
     ]
    }
   ],
   "source": [
    "# 1 способ\n",
    "curs.execute(\"\"\"select cust_id, count(*)\n",
    "from orders\n",
    "group by cust_id\"\"\")\n",
    "for i in curs.fetchall():\n",
    "    print(*i)"
   ]
  },
  {
   "cell_type": "code",
   "execution_count": 34,
   "metadata": {},
   "outputs": [
    {
     "name": "stdout",
     "output_type": "stream",
     "text": [
      "1000000001 2\n",
      "1000000003 1\n",
      "1000000004 1\n",
      "1000000005 1\n"
     ]
    }
   ],
   "source": [
    "# 2 способ\n",
    "curs.execute(\"\"\"select cust_id, (select count(order_num) from orders b where b.cust_id = a.cust_id)\n",
    "from orders a\n",
    "group by cust_id\"\"\")\n",
    "for i in curs.fetchall():\n",
    "    print(*i)"
   ]
  },
  {
   "cell_type": "code",
   "execution_count": 38,
   "metadata": {},
   "outputs": [
    {
     "name": "stdout",
     "output_type": "stream",
     "text": [
      "Village Toys 20005\n",
      "Fun4All 20006\n",
      "Fun4All 20007\n",
      "The Toy Store 20008\n",
      "Village Toys 20009\n"
     ]
    }
   ],
   "source": [
    "curs.execute(\"\"\"select b.cust_name, a.order_num\n",
    "from orders a\n",
    "join\n",
    "customers b\n",
    "on a.cust_id = b.cust_id\"\"\")\n",
    "for i in curs.fetchall():\n",
    "    print(*i)"
   ]
  },
  {
   "cell_type": "code",
   "execution_count": 39,
   "metadata": {},
   "outputs": [
    {
     "name": "stdout",
     "output_type": "stream",
     "text": [
      "12 inch teddy bear\n",
      "18 inch teddy bear\n",
      "8 inch teddy bear\n",
      "Bird bean bag toy\n",
      "Fish bean bag toy\n",
      "King doll\n",
      "Queen doll\n",
      "Rabbit bean bag toy\n",
      "Raggedy Ann\n"
     ]
    }
   ],
   "source": [
    "curs.execute(\"\"\"select prod_name\n",
    "from products\n",
    "where prod_price < 5\n",
    "union\n",
    "select prod_name\n",
    "from products\n",
    "where prod_price >= 5\"\"\")\n",
    "for i in curs.fetchall():\n",
    "    print(*i)"
   ]
  }
 ],
 "metadata": {
  "kernelspec": {
   "display_name": "Python 3",
   "language": "python",
   "name": "python3"
  },
  "language_info": {
   "codemirror_mode": {
    "name": "ipython",
    "version": 3
   },
   "file_extension": ".py",
   "mimetype": "text/x-python",
   "name": "python",
   "nbconvert_exporter": "python",
   "pygments_lexer": "ipython3",
   "version": "3.8.3"
  }
 },
 "nbformat": 4,
 "nbformat_minor": 4
}
