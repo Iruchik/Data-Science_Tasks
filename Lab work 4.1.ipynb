{
 "cells": [
  {
   "cell_type": "markdown",
   "metadata": {},
   "source": [
    "# Завдання 1"
   ]
  },
  {
   "cell_type": "code",
   "execution_count": 32,
   "metadata": {},
   "outputs": [],
   "source": [
    "import datetime\n",
    "import requests\n",
    "import statistics as st\n",
    "today = datetime.date.today()\n",
    "today_month = today.month\n",
    "today_year = today.year\n",
    "year_ago = (datetime.date.today() - datetime.timedelta(days = 365)).strftime('%Y%m%d')\n",
    "list_with_values = {}\n",
    "\n",
    "for i in range(365): # Получаем значения\n",
    "    last_date = today - datetime.timedelta(days = i)\n",
    "    par = {'valcode': 'USD', 'date': last_date.strftime('%Y%m%d')}\n",
    "    req = requests.get('https://bank.gov.ua/NBUStatService/v1/statdirectory/exchange?json', params = par).json()\n",
    "    list_with_values[req[0]['exchangedate']] = req[0]['rate']"
   ]
  },
  {
   "cell_type": "code",
   "execution_count": 49,
   "metadata": {},
   "outputs": [
    {
     "name": "stdout",
     "output_type": "stream",
     "text": [
      "Среднее за  05.2020 - 26.814329032258065 , СКО -  0.13251436487816476\n",
      "Среднее за  07.2020 - 27.31283870967742 , СКО -  0.3582872713677414\n",
      "Среднее за  01.2020 - 24.119351612903227 , СКО -  0.3655099485614568\n",
      "Среднее за  02.2020 - 24.596524137931034 , СКО -  0.18439410128790462\n",
      "Среднее за  10.2019 - 24.808206516129033 , СКО -  0.22822706312692184\n",
      "Среднее за  06.2020 - 26.707343333333334 , СКО -  0.07162276492537516\n",
      "Среднее за  04.2020 - 27.224653333333332 , СКО -  0.2062352568198646\n",
      "Среднее за  12.2019 - 23.609435129032256 , СКО -  0.23882165159716187\n",
      "Среднее за  08.2020 - 27.558015 , СКО -  0.16901455639973723\n",
      "Среднее за  11.2019 - 24.367518633333333 , СКО -  0.26985906572536283\n",
      "Среднее за  08.2019 - 25.1289489 , СКО -  0.08432504846775943\n",
      "Среднее за  09.2019 - 24.769724166666666 , СКО -  0.4019072206089429\n",
      "Среднее за  03.2020 - 26.412293548387098 , СКО -  1.3987778886920756\n"
     ]
    }
   ],
   "source": [
    "set_1 = set()\n",
    "for j in list_with_values: # Выбираем уникальные значения дат (комбинации месяца и года)\n",
    "    set_1.add(j[3:])\n",
    "\n",
    "list_with_values_2 = {} # Список по месяцам\n",
    "\n",
    "for months in set_1: # Группируем значения по месяцам\n",
    "    month_values = []\n",
    "    for k in list_with_values:\n",
    "        if k[3:] == months:\n",
    "            month_values.append(list_with_values[k])\n",
    "    list_with_values_2[months] = month_values\n",
    "\n",
    "list_with_values_3 = {} # Список со средними\n",
    "for l in list_with_values_2: # Заносим среднее по каждому месяцу в отдельный список\n",
    "    list_with_values_3[l] = st.mean(list_with_values_2[l])\n",
    "\n",
    "list_with_values_4 = {} # Список с СКО\n",
    "for n in list_with_values_2:\n",
    "    list_with_values_4[n] = st.pstdev(list_with_values_2[n])\n",
    "\n",
    "list_with_values_5 = {} # Заносим среднее и СКО в один список\n",
    "for d in list_with_values_3:\n",
    "    list_with_values_5[d] = (list_with_values_3[d], list_with_values_4[d])   \n",
    "    \n",
    "for m in list_with_values_5: # Выводим результаты \n",
    "     print('Среднее за ', m, '-', list_with_values_5[m][0], ', СКО - ', list_with_values_5[m][1])"
   ]
  },
  {
   "cell_type": "code",
   "execution_count": 50,
   "metadata": {},
   "outputs": [],
   "source": [
    "import pickle\n",
    "with open('Lab4.pickle', 'wb') as f:\n",
    "    pickle.dump(list_with_values_5, f)"
   ]
  },
  {
   "cell_type": "markdown",
   "metadata": {},
   "source": [
    "# Завдання 2"
   ]
  },
  {
   "cell_type": "code",
   "execution_count": 64,
   "metadata": {},
   "outputs": [
    {
     "data": {
      "text/plain": [
       "<div class=\"left-column w-100\" data-ajax-url=\"https://www.unian.ua/science\" id=\"block_left_column_content\"><!-- Block rubric_news start --><h2 class=\"title-bordered\">\n",
       "                                                Всі новини науки і техніки\n",
       "                                    </h2><div class=\"list-thumbs\"><div class=\"list-thumbs__item\"><div class=\"list-thumbs__info\"><a class=\"list-thumbs__title\" href=\"https://www.unian.net/games/luchshie-igry-pokoleniya-kotorye-tak-i-ne-stali-hitami-igry-11184104.html\">\n",
       "                                Недооцінені ігри покоління, що минає. Трагедія The Order 1886\n",
       "            </a><div class=\"list-thumbs__time time\">10:15, 17 жовтня 2020</div></div><a class=\"list-thumbs__image\" href=\"https://www.unian.net/games/luchshie-igry-pokoleniya-kotorye-tak-i-ne-stali-hitami-igry-11184104.html\"><img alt=\"Недооцінені ігри покоління, що минає. Трагедія The Order 1886\" data-src=\"https://images.unian.net/photos/2020_10/thumb_files/220_140_1602863308-5566.jpg\" src=\"data:image/gif;base64,R0lGODlhAQABAAAAACH5BAEKAAEALAAAAAABAAEAAAICTAEAOw==\"/></a></div><div class=\"list-thumbs__item\"><div class=\"list-thumbs__info\"><a class=\"list-thumbs__title\" href=\"https://www.unian.ua/health/worldnews/vakcini-koronavirus-vcheni-radyat-vakcinuvati-vid-covid-19-molod-v-pershu-chergu-ostanni-novini-11184074.html\">\n",
       "                                Newsweek: Вчені з'ясували, кому краще зробити щеплення від COVID-19 першим\n",
       "            </a><div class=\"list-thumbs__time time\">18:54, 16 жовтня 2020</div></div><a class=\"list-thumbs__image\" href=\"https://www.unian.ua/health/worldnews/vakcini-koronavirus-vcheni-radyat-vakcinuvati-vid-covid-19-molod-v-pershu-chergu-ostanni-novini-11184074.html\"><img alt=\"Newsweek: Вчені з'ясували, кому краще зробити щеплення від COVID-19 першим\" data-src=\"https://images.unian.net/photos/2020_10/thumb_files/220_140_1602807633-3828.jpg\" src=\"data:image/gif;base64,R0lGODlhAQABAAAAACH5BAEKAAEALAAAAAABAAEAAAICTAEAOw==\"/></a></div><div class=\"list-thumbs__item\"><div class=\"list-thumbs__info\"><a class=\"list-thumbs__title\" href=\"https://www.unian.ua/science/yak-znayti-pisnyu-po-melodiji-cherez-google-naspivati-pisnyu-novini-11184050.html\">\n",
       "                                Як дізнатися назву пісні по мелодії: два простих способи\n",
       "            </a><div class=\"list-thumbs__time time\">18:38, 16 жовтня 2020</div></div><a class=\"list-thumbs__image\" href=\"https://www.unian.ua/science/yak-znayti-pisnyu-po-melodiji-cherez-google-naspivati-pisnyu-novini-11184050.html\"><img alt=\"Як дізнатися назву пісні по мелодії: два простих способи\" data-src=\"https://images.unian.net/photos/2020_10/thumb_files/220_140_1602860595-1388.jpg\" src=\"data:image/gif;base64,R0lGODlhAQABAAAAACH5BAEKAAEALAAAAAABAAEAAAICTAEAOw==\"/></a></div><div class=\"list-thumbs__item\"><div class=\"list-thumbs__info\"><a class=\"list-thumbs__title\" href=\"https://www.unian.ua/games/marvel-s-avengers-ne-otrimayut-polipshenu-versiyu-dlya-novih-konsoley-igri-11184038.html\">\n",
       "                                Реліз \"Месників\" на PS5 та Xbox Series X відкладено – автори звернулися до гравців з відкритим листом\n",
       "            </a><div class=\"list-thumbs__time time\">18:34, 16 жовтня 2020</div></div><a class=\"list-thumbs__image\" href=\"https://www.unian.ua/games/marvel-s-avengers-ne-otrimayut-polipshenu-versiyu-dlya-novih-konsoley-igri-11184038.html\"><img alt='Реліз \"Месників\" на PS5 та Xbox Series X відкладено – автори звернулися до гравців з відкритим листом' data-src=\"https://images.unian.net/photos/2020_09/thumb_files/220_140_1599234750-4605.jpg\" src=\"data:image/gif;base64,R0lGODlhAQABAAAAACH5BAEKAAEALAAAAAABAAEAAAICTAEAOw==\"/></a></div><div class=\"list-thumbs__item\"><div class=\"list-thumbs__info\"><a class=\"list-thumbs__title\" href=\"https://www.unian.ua/science/korovam-podobayetsya-zhive-spilkuvannya-z-lyudmi-i-pogladzhuvannya-vcheni-novini-11183942.html\">\n",
       "                                Коровам подобається живе спілкування з людьми і погладжування: вчені\n",
       "            </a><div class=\"list-thumbs__time time\">17:34, 16 жовтня 2020</div></div><a class=\"list-thumbs__image\" href=\"https://www.unian.ua/science/korovam-podobayetsya-zhive-spilkuvannya-z-lyudmi-i-pogladzhuvannya-vcheni-novini-11183942.html\"><img alt=\"Коровам подобається живе спілкування з людьми і погладжування: вчені\" data-src=\"https://images.unian.net/photos/2018_09/thumb_files/220_140_1537806301-5624.jpg\" src=\"data:image/gif;base64,R0lGODlhAQABAAAAACH5BAEKAAEALAAAAAABAAEAAAICTAEAOw==\"/></a></div><div class=\"list-thumbs__item\"><div class=\"list-thumbs__info\"><a class=\"list-thumbs__title\" href=\"https://www.unian.ua/science/dinozavri-u-kanadi-12-richniy-hlopchik-znayshov-skelet-starodavnogo-dinozavra-foto-novini-11183822.html\">\n",
       "                                У Канаді 12-річний хлопчик знайшов скелет стародавнього динозавра (фото)\n",
       "            </a><div class=\"list-thumbs__time time\">16:35, 16 жовтня 2020</div></div><a class=\"list-thumbs__image\" href=\"https://www.unian.ua/science/dinozavri-u-kanadi-12-richniy-hlopchik-znayshov-skelet-starodavnogo-dinozavra-foto-novini-11183822.html\"><img alt=\"У Канаді 12-річний хлопчик знайшов скелет стародавнього динозавра (фото)\" data-src=\"https://images.unian.net/photos/2020_10/thumb_files/220_140_1602854832-4078.jpg\" src=\"data:image/gif;base64,R0lGODlhAQABAAAAACH5BAEKAAEALAAAAAABAAEAAAICTAEAOw==\"/></a></div><div class=\"list-thumbs__item\"><div class=\"list-thumbs__info\"><a class=\"list-thumbs__title\" href=\"https://www.unian.ua/economics/telecom/iphone-12-v-ukrajini-skilki-dovedetsya-pracyuvati-shchob-kupiti-novinku-novini-11183696.html\">\n",
       "                                iPhone 12: в якій країні найпростіше заробити на новинку\n",
       "            </a><div class=\"list-thumbs__time time\">15:33, 16 жовтня 2020</div></div><a class=\"list-thumbs__image\" href=\"https://www.unian.ua/economics/telecom/iphone-12-v-ukrajini-skilki-dovedetsya-pracyuvati-shchob-kupiti-novinku-novini-11183696.html\"><img alt=\"iPhone 12: в якій країні найпростіше заробити на новинку\" data-src=\"https://images.unian.net/photos/2020_05/thumb_files/220_140_1589266880-4130.jpg\" src=\"data:image/gif;base64,R0lGODlhAQABAAAAACH5BAEKAAEALAAAAAABAAEAAAICTAEAOw==\"/></a></div><div class=\"list-thumbs__item\"><div class=\"list-thumbs__info\"><a class=\"list-thumbs__title\" href=\"https://www.unian.ua/society/trevel-shou-de-inozemci-znayomlyatsya-z-ukrajinskim-koloritom-otrimaye-pereklad-novini-ukrajini-11183681.html\">\n",
       "                                Тревел-шоу, де іноземці знайомляться з українським колоритом, отримає переклад\n",
       "            </a><div class=\"list-thumbs__time time\">15:22, 16 жовтня 2020</div></div><a class=\"list-thumbs__image\" href=\"https://www.unian.ua/society/trevel-shou-de-inozemci-znayomlyatsya-z-ukrajinskim-koloritom-otrimaye-pereklad-novini-ukrajini-11183681.html\"><img alt=\"Тревел-шоу, де іноземці знайомляться з українським колоритом, отримає переклад\" data-src=\"https://images.unian.net/photos/2020_06/thumb_files/220_140_1593178317-2631.jpg\" src=\"data:image/gif;base64,R0lGODlhAQABAAAAACH5BAEKAAEALAAAAAABAAEAAAICTAEAOw==\"/></a></div><div class=\"list-thumbs__item\"><div class=\"list-thumbs__info\"><a class=\"list-thumbs__title\" href=\"https://www.unian.ua/science/znayti-pisnyu-cherez-google-z-yavivsya-unikalniy-dodatok-dlya-poshuku-pisen-novini-11183522.html\">\n",
       "                                Просто наспівайте мелодію: в Google з'явився унікальний пошуковик пісень (відео)\n",
       "            </a><div class=\"list-thumbs__time time\">14:19, 16 жовтня 2020</div></div><a class=\"list-thumbs__image\" href=\"https://www.unian.ua/science/znayti-pisnyu-cherez-google-z-yavivsya-unikalniy-dodatok-dlya-poshuku-pisen-novini-11183522.html\"><img alt=\"Просто наспівайте мелодію: в Google з'явився унікальний пошуковик пісень (відео)\" data-src=\"https://images.unian.net/photos/2020_10/thumb_files/220_140_1602846596-2970.jpg\" src=\"data:image/gif;base64,R0lGODlhAQABAAAAACH5BAEKAAEALAAAAAABAAEAAAICTAEAOw==\"/></a></div><div class=\"list-thumbs__item\"><div class=\"list-thumbs__info\"><a class=\"list-thumbs__title\" href=\"https://www.unian.ua/science/gugl-maps-google-maps-zapuskaye-novu-funkciyu-live-view-shcho-ce-take-yak-dopomozhe-borotisya-z-covid-19-novini-11183429.html\">\n",
       "                                У Google Maps з’явиться нова функція, яка може убезпечити від інфікування COVID-19\n",
       "            </a><div class=\"list-thumbs__time time\">13:27, 16 жовтня 2020</div></div><a class=\"list-thumbs__image\" href=\"https://www.unian.ua/science/gugl-maps-google-maps-zapuskaye-novu-funkciyu-live-view-shcho-ce-take-yak-dopomozhe-borotisya-z-covid-19-novini-11183429.html\"><img alt=\"У Google Maps з’явиться нова функція, яка може убезпечити від інфікування COVID-19\" data-src=\"https://images.unian.net/photos/2020_10/thumb_files/220_140_1602843886-4967.jpg\" src=\"data:image/gif;base64,R0lGODlhAQABAAAAACH5BAEKAAEALAAAAAABAAEAAAICTAEAOw==\"/></a></div><div class=\"list-thumbs__item\"><div class=\"list-thumbs__info\"><a class=\"list-thumbs__title\" href=\"https://www.unian.ua/games/ps-store-onovlyat-z-21-po-26-zhovtnya-igri-11183357.html\">\n",
       "                                Sony оновить PlayStation Store 21 жовтня\n",
       "            </a><div class=\"list-thumbs__time time\">13:01, 16 жовтня 2020</div></div><a class=\"list-thumbs__image\" href=\"https://www.unian.ua/games/ps-store-onovlyat-z-21-po-26-zhovtnya-igri-11183357.html\"><img alt=\"Sony оновить PlayStation Store 21 жовтня\" data-src=\"https://images.unian.net/photos/2020_10/thumb_files/220_140_1602255821-7075.png\" src=\"data:image/gif;base64,R0lGODlhAQABAAAAACH5BAEKAAEALAAAAAABAAEAAAICTAEAOw==\"/></a></div><div class=\"list-thumbs__item\"><div class=\"list-thumbs__info\"><a class=\"list-thumbs__title\" href=\"https://www.unian.ua/games/spider-man-miles-morales-stali-vidomi-novi-podrobici-gri-igri-11183174.html\">\n",
       "                                Стелс і гаджети – стали відомі нові подробиці Spider-Man: Miles Morales (відео)\n",
       "            </a><div class=\"list-thumbs__time time\">11:21, 16 жовтня 2020</div></div><a class=\"list-thumbs__image\" href=\"https://www.unian.ua/games/spider-man-miles-morales-stali-vidomi-novi-podrobici-gri-igri-11183174.html\"><img alt=\"Стелс і гаджети – стали відомі нові подробиці Spider-Man: Miles Morales (відео)\" data-src=\"https://images.unian.net/photos/2020_10/thumb_files/220_140_1602835758-6962.jpg\" src=\"data:image/gif;base64,R0lGODlhAQABAAAAACH5BAEKAAEALAAAAAABAAEAAAICTAEAOw==\"/></a></div><div class=\"list-thumbs__item\"><div class=\"list-thumbs__info\"><a class=\"list-thumbs__title\" href=\"https://www.unian.ua/science/koronavirus-novini-vcheni-rozpovili-koli-koronavirus-mozhe-vshchuhnuti-ta-zgadali-pro-chumu-novini-11182331.html\">\n",
       "                                Згадали малярію і чуму: вчені припустили, коли може закінчитися пандемія COVID-19\n",
       "            </a><div class=\"list-thumbs__time time\">05:00, 16 жовтня 2020</div></div><a class=\"list-thumbs__image\" href=\"https://www.unian.ua/science/koronavirus-novini-vcheni-rozpovili-koli-koronavirus-mozhe-vshchuhnuti-ta-zgadali-pro-chumu-novini-11182331.html\"><img alt=\"Згадали малярію і чуму: вчені припустили, коли може закінчитися пандемія COVID-19\" data-src=\"https://images.unian.net/photos/2020_10/thumb_files/220_140_1602331372-1396.jpg\" src=\"data:image/gif;base64,R0lGODlhAQABAAAAACH5BAEKAAEALAAAAAABAAEAAAICTAEAOw==\"/></a></div><div class=\"list-thumbs__item\"><div class=\"list-thumbs__info\"><a class=\"list-thumbs__title\" href=\"https://www.unian.ua/economics/agro/google-zapuskaye-avtonomnogo-robota-z-ii-dlya-analizu-posiviv-novini-11182607.html\">\n",
       "                                Google запускає автономного робота для аналізу посівів\n",
       "            </a><div class=\"list-thumbs__time time\">18:07, 15 жовтня 2020</div></div><a class=\"list-thumbs__image\" href=\"https://www.unian.ua/economics/agro/google-zapuskaye-avtonomnogo-robota-z-ii-dlya-analizu-posiviv-novini-11182607.html\"><img alt=\"Google запускає автономного робота для аналізу посівів\" data-src=\"https://images.unian.net/photos/2020_08/thumb_files/220_140_1598600728-2630.jpg\" src=\"data:image/gif;base64,R0lGODlhAQABAAAAACH5BAEKAAEALAAAAAABAAEAAAICTAEAOw==\"/></a></div><div class=\"list-thumbs__item\"><div class=\"list-thumbs__info\"><a class=\"list-thumbs__title\" href=\"https://www.unian.ua/games/horror-amnesia-a-machine-for-pigs-viddayut-bezkoshtovno-v-epic-games-store-igri-11182574.html\">\n",
       "                                В Epic Games Store роздають безкоштовно хорор Amnesia: A Machine for Pigs та ще одну гру\n",
       "            </a><div class=\"list-thumbs__time time\">17:59, 15 жовтня 2020</div></div><a class=\"list-thumbs__image\" href=\"https://www.unian.ua/games/horror-amnesia-a-machine-for-pigs-viddayut-bezkoshtovno-v-epic-games-store-igri-11182574.html\"><img alt=\"В Epic Games Store роздають безкоштовно хорор Amnesia: A Machine for Pigs та ще одну гру\" data-src=\"https://images.unian.net/photos/2020_10/thumb_files/220_140_1602772867-6566.jpg\" src=\"data:image/gif;base64,R0lGODlhAQABAAAAACH5BAEKAAEALAAAAAABAAEAAAICTAEAOw==\"/></a></div><div class=\"list-thumbs__item\"><div class=\"list-thumbs__info\"><a class=\"list-thumbs__title\" href=\"https://www.unian.net/games/recenziya-na-partisans-1941-obzor-partisans-1941-igry-11182511.html\">\n",
       "                                Операція провалилася. Рецензія на Partisans 1941\n",
       "            </a><div class=\"list-thumbs__time time\">17:30, 15 жовтня 2020</div></div><a class=\"list-thumbs__image\" href=\"https://www.unian.net/games/recenziya-na-partisans-1941-obzor-partisans-1941-igry-11182511.html\"><img alt=\"Операція провалилася. Рецензія на Partisans 1941\" data-src=\"https://images.unian.net/photos/2020_10/thumb_files/220_140_1602765919-5300.jpg\" src=\"data:image/gif;base64,R0lGODlhAQABAAAAACH5BAEKAAEALAAAAAABAAEAAAICTAEAOw==\"/></a></div><div class=\"list-thumbs__item\"><div class=\"list-thumbs__info\"><a class=\"list-thumbs__title\" href=\"https://www.unian.ua/games/playstation-5-sony-prodemonstruvala-interfeys-novoji-konsoli-igri-11182466.html\">\n",
       "                                Миттєвий доступ до ігор і PS Store – Sony продемонструвала інтерфейс PlayStation 5 (відео)\n",
       "            </a><div class=\"list-thumbs__time time\">16:52, 15 жовтня 2020</div></div><a class=\"list-thumbs__image\" href=\"https://www.unian.ua/games/playstation-5-sony-prodemonstruvala-interfeys-novoji-konsoli-igri-11182466.html\"><img alt=\"Миттєвий доступ до ігор і PS Store – Sony продемонструвала інтерфейс PlayStation 5 (відео)\" data-src=\"https://images.unian.net/photos/2020_10/thumb_files/220_140_1602769049-7661.jpg\" src=\"data:image/gif;base64,R0lGODlhAQABAAAAACH5BAEKAAEALAAAAAABAAEAAAICTAEAOw==\"/></a></div><div class=\"list-thumbs__item\"><div class=\"list-thumbs__info\"><a class=\"list-thumbs__title\" href=\"https://www.unian.ua/games/oneplus-vipustit-smartfon-v-stili-gri-cyberpunk-2077-igri-11182271.html\">\n",
       "                                Анонсовано лімітований смартфон OnePlus 8T в стилі гри Cyberpunk 2077 (відео)\n",
       "            </a><div class=\"list-thumbs__time time\">15:15, 15 жовтня 2020</div></div><a class=\"list-thumbs__image\" href=\"https://www.unian.ua/games/oneplus-vipustit-smartfon-v-stili-gri-cyberpunk-2077-igri-11182271.html\"><img alt=\"Анонсовано лімітований смартфон OnePlus 8T в стилі гри Cyberpunk 2077 (відео)\" data-src=\"https://images.unian.net/photos/2020_10/thumb_files/220_140_1602763407-7962.jpg\" src=\"data:image/gif;base64,R0lGODlhAQABAAAAACH5BAEKAAEALAAAAAABAAEAAAICTAEAOw==\"/></a></div><!-- Banner ajax_750x250 (news_rubric) start. --><div id=\"div-gpt-ad-1536265890183-0-0\"><script>\n",
       "        googletag.cmd.push(function() {\n",
       "            googletag.defineSlot('/82479101/Display_Unian.ua/unian_970x250_1', [\n",
       "                    [750, 250],\n",
       "                    [728, 90],\n",
       "                    [600, 300]\n",
       "                ], 'div-gpt-ad-1536265890183-0-0')\n",
       "                .setTargeting('PageType_Unian', ['www'])\n",
       "                .addService(googletag.pubads())\n",
       "            googletag.enableServices();\n",
       "            googletag.display('div-gpt-ad-1536265890183-0-0');\n",
       "        });\n",
       "    </script></div><br/><!-- Banner ajax_750x250 (news_rubric) end. --></div><!-- Block rubric_news end --></div>"
      ]
     },
     "execution_count": 64,
     "metadata": {},
     "output_type": "execute_result"
    }
   ],
   "source": [
    "from bs4 import BeautifulSoup\n",
    "import requests\n",
    "conn = requests.get('https://www.unian.ua/science')\n",
    "soup = BeautifulSoup(conn.text, 'html')\n",
    "tmp = []\n",
    "for link in soup.find_all('div'):\n",
    "    tmp.append(link)\n",
    "\n",
    "tmp[62]"
   ]
  }
 ],
 "metadata": {
  "kernelspec": {
   "display_name": "Python 3",
   "language": "python",
   "name": "python3"
  },
  "language_info": {
   "codemirror_mode": {
    "name": "ipython",
    "version": 3
   },
   "file_extension": ".py",
   "mimetype": "text/x-python",
   "name": "python",
   "nbconvert_exporter": "python",
   "pygments_lexer": "ipython3",
   "version": "3.8.3"
  }
 },
 "nbformat": 4,
 "nbformat_minor": 4
}
